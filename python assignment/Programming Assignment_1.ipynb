{
 "cells": [
  {
   "cell_type": "markdown",
   "id": "637b47a5",
   "metadata": {},
   "source": [
    "## Programming Assignment_1\n",
    "-------------"
   ]
  },
  {
   "cell_type": "markdown",
   "id": "0c647dbe",
   "metadata": {},
   "source": [
    "### 1. Write a Python program to print \"Hello Python\"?\n",
    "##### Sol:"
   ]
  },
  {
   "cell_type": "code",
   "execution_count": 1,
   "id": "732cbadd",
   "metadata": {},
   "outputs": [
    {
     "name": "stdout",
     "output_type": "stream",
     "text": [
      "Hello Python\n"
     ]
    }
   ],
   "source": [
    "print(\"Hello Python\")"
   ]
  },
  {
   "cell_type": "markdown",
   "id": "fc18a6cd",
   "metadata": {},
   "source": [
    "### 2. Write a Python program to do arithmetical operations addition and division.?\n",
    "##### Sol:"
   ]
  },
  {
   "cell_type": "code",
   "execution_count": 4,
   "id": "d5e81491",
   "metadata": {},
   "outputs": [
    {
     "name": "stdout",
     "output_type": "stream",
     "text": [
      "16\n",
      "5.0\n"
     ]
    }
   ],
   "source": [
    "a = 10\n",
    "b = 2\n",
    "c = 4\n",
    "\n",
    "## Addition\n",
    "def add(*args):\n",
    "    ans = 0\n",
    "    for i in args:\n",
    "        ans += i\n",
    "    return ans\n",
    "\n",
    "## Division\n",
    "def div(a,b):\n",
    "    return a / b\n",
    "\n",
    "print(add(a,b,c))\n",
    "print(div(a,b))"
   ]
  },
  {
   "cell_type": "markdown",
   "id": "af6e2429",
   "metadata": {},
   "source": [
    "### 3. Write a Python program to find the area of a triangle?\n",
    "##### Sol:"
   ]
  },
  {
   "cell_type": "code",
   "execution_count": 5,
   "id": "d5d93846",
   "metadata": {},
   "outputs": [
    {
     "name": "stdout",
     "output_type": "stream",
     "text": [
      "Area of triangle: 1250.0\n"
     ]
    }
   ],
   "source": [
    "height = 100\n",
    "base = 25\n",
    "\n",
    "# area = height*base/2\n",
    "def area(h,b):\n",
    "    return h*b/2\n",
    "\n",
    "print(\"Area of triangle:\", area(height,base))"
   ]
  },
  {
   "cell_type": "markdown",
   "id": "b8140061",
   "metadata": {},
   "source": [
    "### 4. Write a Python program to swap two variables?\n",
    "##### Sol:"
   ]
  },
  {
   "cell_type": "code",
   "execution_count": 12,
   "id": "182608ba",
   "metadata": {},
   "outputs": [
    {
     "name": "stdout",
     "output_type": "stream",
     "text": [
      "*********** method 1 ************\n",
      "Before swap:\n",
      "var1 = 123 and var2 = 111\n",
      "\n",
      "After swap:\n",
      "var1 = 111 and var2 = 123\n",
      "\n",
      "*********** method 2 ************\n",
      "\n",
      "Before swap:\n",
      "var1 = 123 and var2 = 111\n",
      "\n",
      "After swap:\n",
      "var1 = 111 and var2 = 123\n",
      "\n",
      "*********** method 3 ************\n",
      "\n",
      "Before swap:\n",
      "var1 = 123 and var2 = 111\n",
      "\n",
      "After swap:\n",
      "var1 = 111 and var2 = 123\n",
      "\n",
      "*********** method 4 ************\n",
      "\n",
      "Before swap:\n",
      "var1 = 123 and var2 = 111\n",
      "\n",
      "After swap:\n",
      "var1 = 111 and var2 = 123\n",
      "\n"
     ]
    }
   ],
   "source": [
    "var1 = 123\n",
    "var2 = 111\n",
    "# method 1\n",
    "print('*********** method 1 ************')\n",
    "print(f'Before swap:\\nvar1 = {var1} and var2 = {var2}')\n",
    "\n",
    "temp = var1\n",
    "var1 = var2\n",
    "var2 = temp\n",
    "print(f'\\nAfter swap:\\nvar1 = {var1} and var2 = {var2}\\n')\n",
    "\n",
    "\n",
    "# method 2\n",
    "print('*********** method 2 ************')\n",
    "\n",
    "var1 = 123\n",
    "var2 = 111\n",
    "\n",
    "\n",
    "print(f'\\nBefore swap:\\nvar1 = {var1} and var2 = {var2}')\n",
    "var1,var2 = var2,var1\n",
    "print(f'\\nAfter swap:\\nvar1 = {var1} and var2 = {var2}\\n')\n",
    "\n",
    "# method 3\n",
    "print('*********** method 3 ************')\n",
    "\n",
    "var1 = 123\n",
    "var2 = 111\n",
    "\n",
    "\n",
    "print(f'\\nBefore swap:\\nvar1 = {var1} and var2 = {var2}')\n",
    "var1 = var1 + var2\n",
    "var2 = var1 - var2\n",
    "var1 = var1 - var2\n",
    "print(f'\\nAfter swap:\\nvar1 = {var1} and var2 = {var2}\\n')\n",
    "\n",
    "# method 4\n",
    "print('*********** method 4 ************')\n",
    "\n",
    "var1 = 123\n",
    "var2 = 111\n",
    "\n",
    "\n",
    "print(f'\\nBefore swap:\\nvar1 = {var1} and var2 = {var2}')\n",
    "var1 = var1 * var2\n",
    "var2 = var1 // var2\n",
    "var1 = var1 // var2\n",
    "print(f'\\nAfter swap:\\nvar1 = {var1} and var2 = {var2}\\n')"
   ]
  },
  {
   "cell_type": "markdown",
   "id": "3f8054c1",
   "metadata": {},
   "source": [
    "### 5. Write a Python program to generate a random number?\n",
    "##### Sol:"
   ]
  },
  {
   "cell_type": "code",
   "execution_count": 13,
   "id": "f1e76df9",
   "metadata": {},
   "outputs": [
    {
     "name": "stdout",
     "output_type": "stream",
     "text": [
      "0.8642517698509522\n",
      "177\n"
     ]
    }
   ],
   "source": [
    "import random\n",
    "\n",
    "print(random.random())\n",
    "print(random.randint(1, 1000))"
   ]
  },
  {
   "cell_type": "code",
   "execution_count": null,
   "id": "3ab18c00",
   "metadata": {},
   "outputs": [],
   "source": []
  }
 ],
 "metadata": {
  "kernelspec": {
   "display_name": "Python 3 (ipykernel)",
   "language": "python",
   "name": "python3"
  },
  "language_info": {
   "codemirror_mode": {
    "name": "ipython",
    "version": 3
   },
   "file_extension": ".py",
   "mimetype": "text/x-python",
   "name": "python",
   "nbconvert_exporter": "python",
   "pygments_lexer": "ipython3",
   "version": "3.10.7"
  }
 },
 "nbformat": 4,
 "nbformat_minor": 5
}
